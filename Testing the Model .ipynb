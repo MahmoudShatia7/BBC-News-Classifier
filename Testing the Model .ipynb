{
 "cells": [
  {
   "cell_type": "markdown",
   "id": "a3a4398f-064b-4161-9ff8-c7c53a63a287",
   "metadata": {},
   "source": [
    "- ### Loading and Testing the Model in a New Notebook"
   ]
  },
  {
   "cell_type": "code",
   "execution_count": 8,
   "id": "494688c2-1d2c-428d-a20b-35ec245aa0f8",
   "metadata": {},
   "outputs": [
    {
     "name": "stdout",
     "output_type": "stream",
     "text": [
      "Model, tokenizer, and label encoder loaded successfully.\n"
     ]
    }
   ],
   "source": [
    "import pickle\n",
    "\n",
    "with open('logistic_regression_model.pkl', 'rb') as model_file:\n",
    "    loaded_model = pickle.load(model_file)\n",
    "\n",
    "with open('tokenizer.pkl', 'rb') as tokenizer_file:\n",
    "    tokenizer = pickle.load(tokenizer_file)\n",
    "\n",
    "with open('label_encoder.pkl', 'rb') as label_encoder_file:  # Use a distinct variable for the label encoder file\n",
    "    label_encoder = pickle.load(label_encoder_file)\n",
    "\n",
    "print(\"Model, tokenizer, and label encoder loaded successfully.\")\n"
   ]
  },
  {
   "cell_type": "markdown",
   "id": "375ca89e-d6fa-4286-bafb-ef9b25a1c1e2",
   "metadata": {},
   "source": [
    "- ### Test the model with text from our data"
   ]
  },
  {
   "cell_type": "code",
   "execution_count": 11,
   "id": "fb49d367-18ff-46ac-967e-125f04a83669",
   "metadata": {},
   "outputs": [
    {
     "name": "stdout",
     "output_type": "stream",
     "text": [
      "Predicted category: tech\n"
     ]
    }
   ],
   "source": [
    "new_text = [\n",
    "    \"tv future in the hands of viewers with home theatre systems plasma high-definition tvs and digital video recorders moving into the living room the way people watch tv will be radically different in five years time.\"\n",
    "]\n",
    "\n",
    "new_text_tfidf = tokenizer.transform(new_text)  \n",
    "prediction = loaded_model.predict(new_text_tfidf)\n",
    "\n",
    "predicted_category = label_encoder.inverse_transform(prediction)\n",
    "\n",
    "print(\"Predicted category:\", predicted_category[0])\n"
   ]
  },
  {
   "cell_type": "code",
   "execution_count": 12,
   "id": "a39397a5-1056-4a75-b56b-9a5efdb9375d",
   "metadata": {},
   "outputs": [
    {
     "name": "stdout",
     "output_type": "stream",
     "text": [
      "Predicted category: business\n"
     ]
    }
   ],
   "source": [
    "new_text = [\"worldcom boss  left books alone  former worldcom boss bernie ebbers  who is accused of overseeing an $11bn (Â£5.8bn) fraud  never made accounting decisions  a witness has told jurors.  david myers made the comments under questioning by defence lawyers who have been arguing that mr ebbers was not responsible for worldcom s problems. the phone company collapsed in 2002 and prosecutors claim that losses were hidden to protect the firm s shares. mr myers has already pleaded guilty to fraud and is assisting prosecutors.  on monday  defence lawyer reid weingarten tried to distance his client from the allegations. during cross examination  he asked mr myers if he ever knew mr ebbers  make an accounting decision  .  not that i am aware of   mr myers replied.  did you ever know mr ebbers to make an accounting entry into worldcom books   mr weingarten pressed.  no   replied the witness. mr myers has admitted that he ordered false accounting entries at the request of former worldcom chief financial officer scott sullivan. defence lawyers have been trying to paint mr sullivan  who has admitted fraud and will testify later in the trial  as the mastermind behind worldcom s accounting house of cards.  mr ebbers  team  meanwhile  are looking to portray him as an affable boss  who by his own admission is more pe graduate than economist. whatever his abilities  mr ebbers transformed worldcom from a relative unknown into a $160bn telecoms giant and investor darling of the late 1990s. worldcom s problems mounted  however  as competition increased and the telecoms boom petered out. when the firm finally collapsed  shareholders lost about $180bn and 20 000 workers lost their jobs. mr ebbers  trial is expected to last two months and if found guilty the former ceo faces a substantial jail sentence. he has firmly declared his innocence.\"]\n",
    "new_text_tfidf = tokenizer.transform(new_text)  \n",
    "prediction = loaded_model.predict(new_text_tfidf)\n",
    "\n",
    "predicted_category = label_encoder.inverse_transform(prediction)\n",
    "\n",
    "print(\"Predicted category:\", predicted_category[0])\n"
   ]
  },
  {
   "cell_type": "markdown",
   "id": "7376a05e-178d-42e7-966c-a6b3b91d226d",
   "metadata": {},
   "source": [
    "- ### Test the model with text from BBC news site"
   ]
  },
  {
   "cell_type": "code",
   "execution_count": 13,
   "id": "0a1ae4ff-ae89-447f-bc1a-ec5bdbc535a5",
   "metadata": {},
   "outputs": [
    {
     "name": "stdout",
     "output_type": "stream",
     "text": [
      "Predicted category: business\n"
     ]
    }
   ],
   "source": [
    "new_text = ['metlife buys up citigroup insurer us banking giant citigroup has sold its travelers life & annuity insurance arm to metlife for $11.5bn (Â£6.1bn).  the sale is a further move by citigroup away from its 1990s strategy of offering every financial service - insurance  broking and banking. profit growth in the insurance market has not matched expansion at citigroup s other businesses. for metlife  the us s leading insurance company  the purchase gives it access to a much larger distribution network.  robert benmosche  metlife s chairman and chief executive  said that it was a  great opportunity for the brand of metlife to be distributed through citigroup . under the agreement  metlife will be able to sell its products through citigroup over the next 10 years. the deal includes smith barney retail brokerages and citibank branches. the company will pay between $1bn and $3bn in metlife stock with the rest being made up of cash. travelers had sales of $5.2bn in 2004 and made a profit of $901m. it has total net assets of $96bn.  this deal employs some of metlife s excess capital in a potentially higher-return business and gives it more distribution   said stuart quint  an analyst at gartmore']\n",
    "new_text_tfidf = tokenizer.transform(new_text)  \n",
    "prediction = loaded_model.predict(new_text_tfidf)\n",
    "\n",
    "predicted_category = label_encoder.inverse_transform(prediction)\n",
    "\n",
    "print(\"Predicted category:\", predicted_category[0])\n"
   ]
  },
  {
   "cell_type": "code",
   "execution_count": 14,
   "id": "16b3ebc2-8e9d-4db9-ae40-bb09058e6fb8",
   "metadata": {},
   "outputs": [
    {
     "name": "stdout",
     "output_type": "stream",
     "text": [
      "Predicted category: sport\n"
     ]
    }
   ],
   "source": [
    "new_text =['davenport puts retirement on hold lindsay davenport has put any talk of retirement on hold after having a largely injury-free 2004 campaign.  the 28-year-old world number one had said that she would quit at the end of last year  but after a successful season she has had a change of heart.  finally i felt i put myself in a position to try and win grand slams again   said davenport.  it would be tough to walk away when i feel like i can contend so there s no point in hanging it up quite yet.  davenport has won three grand slams  the 2000 australian open  wimbledon in 1999 and the 1998 us open. her career has been hit by a series of injuries but last year she started hitting top form and won seven titles. she was due to take part in this week s hopman cup in perth but decided she wanted to rest her knee.  i just really wanted to make sure my right knee was going to be able to really withstand all the rigours of the whole year coming up   she said.']\n",
    "new_text_tfidf = tokenizer.transform(new_text)  \n",
    "prediction = loaded_model.predict(new_text_tfidf)\n",
    "\n",
    "predicted_category = label_encoder.inverse_transform(prediction)\n",
    "\n",
    "print(\"Predicted category:\", predicted_category[0])\n"
   ]
  },
  {
   "cell_type": "code",
   "execution_count": 15,
   "id": "acaea821-391a-4bf7-8c38-4638ebe5fb3d",
   "metadata": {},
   "outputs": [
    {
     "name": "stdout",
     "output_type": "stream",
     "text": [
      "Predicted category: sport\n"
     ]
    }
   ],
   "source": [
    "new_text =['An own goal from goalkeeper Lauren Brzykcy and a deflected Erin Cuthbert drive before half-time set the Scots on their way to a two-leg showdown on 29 November and 3 December']\n",
    "new_text_tfidf = tokenizer.transform(new_text)  \n",
    "prediction = loaded_model.predict(new_text_tfidf)\n",
    "\n",
    "predicted_category = label_encoder.inverse_transform(prediction)\n",
    "\n",
    "print(\"Predicted category:\", predicted_category[0])\n"
   ]
  },
  {
   "cell_type": "code",
   "execution_count": 16,
   "id": "81a70290-99b0-4b86-9421-41755e85071b",
   "metadata": {},
   "outputs": [
    {
     "name": "stdout",
     "output_type": "stream",
     "text": [
      "Predicted category: business\n"
     ]
    }
   ],
   "source": [
    "new_text =['''HSBC's new chief executive, Georges Elhedery, said that implementation of the plans will \"begin immediately\" and promised to share more details alongside the bank's full-year results in February.\n",
    "“We delivered another good quarter, which shows that our strategy is working,\" Mr Elhedery added.\n",
    "The bank also said it will buy back another $3bn of its own shares.\n",
    "HSBC’s London-traded shares rose by almost 4% after the announcement.\n",
    "“HSBC’s third-quarter results were solid, with no major surprises,\" said Michael Makdad is a senior equity analyst at financial services firm Morningstar.\n",
    "\"Rather than the generally good results, I think the focus... will be on the structural overhaul\".\n",
    "The bank also said it expects to complete the sale of its Argentinian business by the end of this year.\n",
    "The company makes most of its money in Asia and has been shifting its focus to the region in recent years.\n",
    "HSBC has also recently announced a reshuffle of its leadership, with the appointment of Pam Kaur as its first ever female finance chief.\n",
    "Ms Kaur has worked at the bank for more than a decade and is currently its chief risk and compliance officer.\n",
    "As well as becoming HSBC's chief financial officer, Ms Kaur will take up the role of executive director of the board, which is subject to election at the firm's next annual general meeting.''']\n",
    "new_text_tfidf = tokenizer.transform(new_text)  \n",
    "prediction = loaded_model.predict(new_text_tfidf)\n",
    "\n",
    "predicted_category = label_encoder.inverse_transform(prediction)\n",
    "\n",
    "print(\"Predicted category:\", predicted_category[0])\n"
   ]
  },
  {
   "cell_type": "code",
   "execution_count": 17,
   "id": "3a3f38b1-2581-4c46-ac2a-a1bbd0eeeeee",
   "metadata": {},
   "outputs": [
    {
     "name": "stdout",
     "output_type": "stream",
     "text": [
      "Predicted category: politics\n"
     ]
    }
   ],
   "source": [
    "new_text= ['''  People in war-torn Gaza are already struggling with a deep humanitarian crisis - but now they fear it will get much more difficult because of Israel’s ban on the biggest UN agency which operates there.\n",
    "“Unrwa means everything to us: it is our life, our food, our drink and our medical care. When it closes, there will be no flour. If my son gets sick, where will I go?” asks Yasmine el-Ashry in Khan Younis.\n",
    "“Banning Unrwa is another war for the Palestinian people,” said registered refugee Saeed Awida.\n",
    "“They want to exterminate the Palestinian people and not provide us with humanitarian services.” ''']\n",
    "new_text_tfidf = tokenizer.transform(new_text)  \n",
    "prediction = loaded_model.predict(new_text_tfidf)\n",
    "\n",
    "predicted_category = label_encoder.inverse_transform(prediction)\n",
    "\n",
    "print(\"Predicted category:\", predicted_category[0])\n"
   ]
  },
  {
   "cell_type": "code",
   "execution_count": 18,
   "id": "616fdd64-a32c-4ddd-b11e-717cfd4df6d1",
   "metadata": {},
   "outputs": [
    {
     "name": "stdout",
     "output_type": "stream",
     "text": [
      "Predicted category: entertainment\n"
     ]
    }
   ],
   "source": [
    "new_text= ['''  A new piece of music believed to be by the Polish composer Frederic Chopin has been discovered nearly 200 years after it was written.\n",
    "The unknown waltz was unearthed in the vault of the Morgan Library and Museum in New York.\n",
    "The rare manuscript - dated between 1830 and 1835 - was discovered by curator Robinson McClellan while he was cataloguing new collections.\n",
    "He then worked with a leading Chopin expert to authenticate the score. ''']\n",
    "new_text_tfidf = tokenizer.transform(new_text)  \n",
    "prediction = loaded_model.predict(new_text_tfidf)\n",
    "\n",
    "predicted_category = label_encoder.inverse_transform(prediction)\n",
    "\n",
    "print(\"Predicted category:\", predicted_category[0])\n"
   ]
  },
  {
   "cell_type": "code",
   "execution_count": null,
   "id": "0222d4d7-0135-4079-a991-3628dba3a7cb",
   "metadata": {},
   "outputs": [],
   "source": [
    "import pickle\n",
    "with open(\"C:/Users/5adamaty/Downloads/BBC News/logistic_regression_model.pkl\", 'rb') as file:\n",
    "    model = pickle.load(file)\n",
    "print(\"Model loaded successfully\")\n"
   ]
  }
 ],
 "metadata": {
  "kernelspec": {
   "display_name": "Python 3 (ipykernel)",
   "language": "python",
   "name": "python3"
  },
  "language_info": {
   "codemirror_mode": {
    "name": "ipython",
    "version": 3
   },
   "file_extension": ".py",
   "mimetype": "text/x-python",
   "name": "python",
   "nbconvert_exporter": "python",
   "pygments_lexer": "ipython3",
   "version": "3.9.19"
  }
 },
 "nbformat": 4,
 "nbformat_minor": 5
}
